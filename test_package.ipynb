{
 "cells": [
  {
   "cell_type": "code",
   "execution_count": 31,
   "id": "69134e44-a5d8-465c-bdff-919907ed1da7",
   "metadata": {},
   "outputs": [],
   "source": [
    "import sys,os\n",
    "[sys.path.append(x[0]) for x in os.walk('SL2P_PYTHON_package')]\n",
    "import dictionariesSL2P\n",
    "import SL2P\n",
    "from matplotlib import pyplot as plt\n",
    "import os,numpy\n",
    "import rasterio\n",
    "import os\n",
    "import pandas as pd"
   ]
  },
  {
   "cell_type": "markdown",
   "id": "973b6bf7-eb46-4b62-8687-157590821b39",
   "metadata": {
    "tags": []
   },
   "source": [
    "### Initiation"
   ]
  },
  {
   "cell_type": "code",
   "execution_count": 83,
   "id": "636e3f15-5ed4-4ae6-8e60-7d0f2532bb1f",
   "metadata": {
    "tags": []
   },
   "outputs": [
    {
     "name": "stdout",
     "output_type": "stream",
     "text": [
      "SL2P input data format for S2_L2A data: ['cosVZA', 'cosSZA', 'cosRAA', 'B03', 'B04', 'B05', 'B06', 'B07', 'B8A', 'B11', 'B12']\n"
     ]
    }
   ],
   "source": [
    "variableName='fAPAR'\n",
    "imageCollectionName=\"S2_L2A\"\n",
    "fn='./testdata/Surface_refelctance_S2_L2A.csv'\n",
    "\n",
    "#### Input data Control ***-\n",
    "if variableName not in dictionariesSL2P.make_net_options().keys():\n",
    "    raise ValueError(('Supported vegetation valiables: %s'%(dictionariesSL2P.make_net_options().keys())))\n",
    "if imageCollectionName not in dictionariesSL2P.make_net_options()[variableName].keys():\n",
    "    raise ValueError(('Supported EO datasets: %s'%(dictionariesSL2P.make_net_options()[variableName].keys())))  \n",
    "       \n",
    "sl2p_inputs=dictionariesSL2P.make_net_options()[variableName][imageCollectionName]['inputBands']  \n",
    "print ('SL2P input data format for %s data: %s' %(imageCollectionName,sl2p_inputs))"
   ]
  },
  {
   "cell_type": "code",
   "execution_count": 59,
   "id": "0d868a08-83d7-42f2-a168-52a5de4971c7",
   "metadata": {
    "tags": []
   },
   "outputs": [],
   "source": [
    "def prepare_SL2P_inp(inp):\n",
    "    inp=inp[sl2p_inputs] \n",
    "    inp=inp.values.T\n",
    "    inp=numpy.reshape(inp,(inp.shape[0],inp.shape[1],-1))\n",
    "    return inp"
   ]
  },
  {
   "cell_type": "code",
   "execution_count": 60,
   "id": "56f1d016-187c-462c-ac2a-7da5bf49458e",
   "metadata": {
    "tags": []
   },
   "outputs": [],
   "source": [
    "def run_SL2P(inp,variableName,imageCollectionName):\n",
    "    varmap=SL2P.SL2P(inp,variableName,imageCollectionName)\n",
    "    return varmap  "
   ]
  },
  {
   "cell_type": "markdown",
   "id": "7cd581fc-5f65-46f0-af08-7b11265fd4b4",
   "metadata": {},
   "source": [
    "### 1- Read / prepare data"
   ]
  },
  {
   "cell_type": "code",
   "execution_count": 67,
   "id": "03e2159a-4a16-471c-8839-78cf58308168",
   "metadata": {
    "tags": []
   },
   "outputs": [],
   "source": [
    "data=pd.read_csv(fn)"
   ]
  },
  {
   "cell_type": "code",
   "execution_count": null,
   "id": "3ccc58b8-910c-430e-a72d-c72bd288432a",
   "metadata": {},
   "outputs": [],
   "source": [
    "inp=prepare_SL2P_inp(data)"
   ]
  },
  {
   "cell_type": "markdown",
   "id": "f5f87402-034e-4bfc-a8cc-66d9e560bf8f",
   "metadata": {},
   "source": [
    "### 2 - Run SL2P / export outputs"
   ]
  },
  {
   "cell_type": "code",
   "execution_count": 69,
   "id": "2504b416-9165-4117-941a-f9c142f658e5",
   "metadata": {
    "tags": []
   },
   "outputs": [
    {
     "name": "stdout",
     "output_type": "stream",
     "text": [
      "Estimating fAPAR from S2_L2A data\n",
      "Generating sl2p input data flag\n",
      "Run SL2P...\n",
      "SL2P start: 2024-02-26 13:29:51.035962\n",
      "SL2P end: 2024-02-26 13:29:51.055842\n",
      "Generating sl2p output product flag\n",
      "Done\n"
     ]
    }
   ],
   "source": [
    "varmap=run_SL2P(inp,variableName,imageCollectionName)"
   ]
  },
  {
   "cell_type": "markdown",
   "id": "fc9bb4c2-671b-4dc5-a9b4-428fd9d7a999",
   "metadata": {},
   "source": [
    "### 3- Export outputs"
   ]
  },
  {
   "cell_type": "code",
   "execution_count": 72,
   "id": "d0039e95-8f11-4e3e-9831-bc2e558416d7",
   "metadata": {
    "tags": []
   },
   "outputs": [],
   "source": [
    "df=inp[['date', 'longitude', 'latitude','QC']]\n",
    "for kk in list(varmap.keys()):\n",
    "    df.loc[:,kk]=varmap[kk].T[0]  \n",
    "df.to_csv(fn.replace('.csv','_%s.csv'%(variableName)))    "
   ]
  },
  {
   "cell_type": "code",
   "execution_count": 75,
   "id": "9807cc44-5285-4da3-98f1-b25220ed2381",
   "metadata": {
    "tags": []
   },
   "outputs": [],
   "source": []
  },
  {
   "cell_type": "code",
   "execution_count": null,
   "id": "13c4df1e-658b-4538-8e30-ca41a175d206",
   "metadata": {},
   "outputs": [],
   "source": []
  }
 ],
 "metadata": {
  "kernelspec": {
   "display_name": "Python 3 (ipykernel)",
   "language": "python",
   "name": "python3"
  },
  "language_info": {
   "codemirror_mode": {
    "name": "ipython",
    "version": 3
   },
   "file_extension": ".py",
   "mimetype": "text/x-python",
   "name": "python",
   "nbconvert_exporter": "python",
   "pygments_lexer": "ipython3",
   "version": "3.11.5"
  }
 },
 "nbformat": 4,
 "nbformat_minor": 5
}
